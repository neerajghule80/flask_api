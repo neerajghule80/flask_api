{
 "cells": [
  {
   "cell_type": "code",
   "execution_count": 1,
   "metadata": {},
   "outputs": [
    {
     "name": "stdout",
     "output_type": "stream",
     "text": [
      "Requirement already satisfied: virtualenv in c:\\users\\neeraj.ghule\\appdata\\local\\programs\\python\\python37\\lib\\site-packages (20.1.0)\n",
      "Requirement already satisfied: appdirs<2,>=1.4.3 in c:\\users\\neeraj.ghule\\appdata\\local\\programs\\python\\python37\\lib\\site-packages (from virtualenv) (1.4.4)\n",
      "Requirement already satisfied: importlib-metadata<3,>=0.12; python_version < \"3.8\" in c:\\users\\neeraj.ghule\\appdata\\local\\programs\\python\\python37\\lib\\site-packages (from virtualenv) (2.0.0)\n",
      "Requirement already satisfied: six<2,>=1.9.0 in c:\\users\\neeraj.ghule\\appdata\\local\\programs\\python\\python37\\lib\\site-packages (from virtualenv) (1.15.0)\n",
      "Requirement already satisfied: distlib<1,>=0.3.1 in c:\\users\\neeraj.ghule\\appdata\\local\\programs\\python\\python37\\lib\\site-packages (from virtualenv) (0.3.1)\n",
      "Requirement already satisfied: filelock<4,>=3.0.0 in c:\\users\\neeraj.ghule\\appdata\\local\\programs\\python\\python37\\lib\\site-packages (from virtualenv) (3.0.12)\n",
      "Requirement already satisfied: zipp>=0.5 in c:\\users\\neeraj.ghule\\appdata\\local\\programs\\python\\python37\\lib\\site-packages (from importlib-metadata<3,>=0.12; python_version < \"3.8\"->virtualenv) (3.4.0)\n"
     ]
    },
    {
     "name": "stderr",
     "output_type": "stream",
     "text": [
      "WARNING: You are using pip version 20.2.4; however, version 20.3.3 is available.\n",
      "You should consider upgrading via the 'c:\\users\\neeraj.ghule\\appdata\\local\\programs\\python\\python37\\python.exe -m pip install --upgrade pip' command.\n"
     ]
    }
   ],
   "source": [
    "! pip install virtualenv"
   ]
  },
  {
   "cell_type": "code",
   "execution_count": 3,
   "metadata": {},
   "outputs": [],
   "source": [
    "! venv\\scripts\\activate"
   ]
  },
  {
   "cell_type": "code",
   "execution_count": 4,
   "metadata": {},
   "outputs": [
    {
     "name": "stdout",
     "output_type": "stream",
     "text": [
      "Collecting Flask\n",
      "  Downloading Flask-1.1.2-py2.py3-none-any.whl (94 kB)\n",
      "Collecting Werkzeug>=0.15\n",
      "  Downloading Werkzeug-1.0.1-py2.py3-none-any.whl (298 kB)\n",
      "Collecting itsdangerous>=0.24\n",
      "  Downloading itsdangerous-1.1.0-py2.py3-none-any.whl (16 kB)\n",
      "Requirement already satisfied: Jinja2>=2.10.1 in c:\\users\\neeraj.ghule\\appdata\\local\\programs\\python\\python37\\lib\\site-packages (from Flask) (2.11.2)\n",
      "Collecting click>=5.1\n",
      "  Downloading click-7.1.2-py2.py3-none-any.whl (82 kB)\n",
      "Requirement already satisfied: MarkupSafe>=0.23 in c:\\users\\neeraj.ghule\\appdata\\local\\programs\\python\\python37\\lib\\site-packages (from Jinja2>=2.10.1->Flask) (1.1.1)\n",
      "Installing collected packages: Werkzeug, itsdangerous, click, Flask\n",
      "Successfully installed Flask-1.1.2 Werkzeug-1.0.1 click-7.1.2 itsdangerous-1.1.0\n"
     ]
    },
    {
     "name": "stderr",
     "output_type": "stream",
     "text": [
      "WARNING: You are using pip version 20.2.4; however, version 20.3.3 is available.\n",
      "You should consider upgrading via the 'c:\\users\\neeraj.ghule\\appdata\\local\\programs\\python\\python37\\python.exe -m pip install --upgrade pip' command.\n"
     ]
    }
   ],
   "source": [
    "! pip install Flask"
   ]
  }
 ],
 "metadata": {
  "kernelspec": {
   "display_name": "Python (myenv)",
   "language": "python",
   "name": "myenv"
  },
  "language_info": {
   "codemirror_mode": {
    "name": "ipython",
    "version": 3
   },
   "file_extension": ".py",
   "mimetype": "text/x-python",
   "name": "python",
   "nbconvert_exporter": "python",
   "pygments_lexer": "ipython3",
   "version": "3.7.4"
  }
 },
 "nbformat": 4,
 "nbformat_minor": 4
}
